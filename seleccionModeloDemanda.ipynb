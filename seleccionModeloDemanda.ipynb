{
 "cells": [
  {
   "cell_type": "code",
   "execution_count": 3,
   "id": "8903dd51",
   "metadata": {},
   "outputs": [
    {
     "data": {
      "text/html": [],
      "text/plain": [
       "<IPython.core.display.HTML object>"
      ]
     },
     "metadata": {},
     "output_type": "display_data"
    },
    {
     "data": {
      "text/html": [
       "<style type=\"text/css\">\n",
       "#T_baafa th {\n",
       "  text-align: left;\n",
       "}\n",
       "#T_baafa_row0_col0, #T_baafa_row0_col2, #T_baafa_row0_col3, #T_baafa_row0_col4, #T_baafa_row1_col0, #T_baafa_row1_col1, #T_baafa_row1_col5, #T_baafa_row1_col6, #T_baafa_row2_col0, #T_baafa_row2_col1, #T_baafa_row2_col2, #T_baafa_row2_col3, #T_baafa_row2_col4, #T_baafa_row2_col5, #T_baafa_row2_col6, #T_baafa_row3_col0, #T_baafa_row3_col1, #T_baafa_row3_col2, #T_baafa_row3_col3, #T_baafa_row3_col4, #T_baafa_row3_col5, #T_baafa_row3_col6, #T_baafa_row4_col0, #T_baafa_row4_col1, #T_baafa_row4_col2, #T_baafa_row4_col3, #T_baafa_row4_col4, #T_baafa_row4_col5, #T_baafa_row4_col6, #T_baafa_row5_col0, #T_baafa_row5_col1, #T_baafa_row5_col2, #T_baafa_row5_col3, #T_baafa_row5_col4, #T_baafa_row5_col5, #T_baafa_row5_col6, #T_baafa_row6_col0, #T_baafa_row6_col1, #T_baafa_row6_col2, #T_baafa_row6_col3, #T_baafa_row6_col4, #T_baafa_row6_col5, #T_baafa_row6_col6, #T_baafa_row7_col0, #T_baafa_row7_col1, #T_baafa_row7_col2, #T_baafa_row7_col3, #T_baafa_row7_col4, #T_baafa_row7_col5, #T_baafa_row7_col6, #T_baafa_row8_col0, #T_baafa_row8_col1, #T_baafa_row8_col2, #T_baafa_row8_col3, #T_baafa_row8_col4, #T_baafa_row8_col5, #T_baafa_row8_col6, #T_baafa_row9_col0, #T_baafa_row9_col1, #T_baafa_row9_col2, #T_baafa_row9_col3, #T_baafa_row9_col4, #T_baafa_row9_col5, #T_baafa_row9_col6, #T_baafa_row10_col0, #T_baafa_row10_col1, #T_baafa_row10_col2, #T_baafa_row10_col3, #T_baafa_row10_col4, #T_baafa_row10_col5, #T_baafa_row10_col6, #T_baafa_row11_col0, #T_baafa_row11_col1, #T_baafa_row11_col2, #T_baafa_row11_col3, #T_baafa_row11_col4, #T_baafa_row11_col5, #T_baafa_row11_col6, #T_baafa_row12_col0, #T_baafa_row12_col1, #T_baafa_row12_col2, #T_baafa_row12_col3, #T_baafa_row12_col4, #T_baafa_row12_col5, #T_baafa_row12_col6, #T_baafa_row13_col0, #T_baafa_row13_col1, #T_baafa_row13_col2, #T_baafa_row13_col3, #T_baafa_row13_col4, #T_baafa_row13_col5, #T_baafa_row13_col6, #T_baafa_row14_col0, #T_baafa_row14_col1, #T_baafa_row14_col2, #T_baafa_row14_col3, #T_baafa_row14_col4, #T_baafa_row14_col5, #T_baafa_row14_col6, #T_baafa_row15_col0, #T_baafa_row15_col1, #T_baafa_row15_col2, #T_baafa_row15_col3, #T_baafa_row15_col4, #T_baafa_row15_col5, #T_baafa_row15_col6, #T_baafa_row16_col0, #T_baafa_row16_col1, #T_baafa_row16_col2, #T_baafa_row16_col3, #T_baafa_row16_col4, #T_baafa_row16_col5, #T_baafa_row16_col6, #T_baafa_row17_col0, #T_baafa_row17_col1, #T_baafa_row17_col2, #T_baafa_row17_col3, #T_baafa_row17_col4, #T_baafa_row17_col5, #T_baafa_row17_col6, #T_baafa_row18_col0, #T_baafa_row18_col1, #T_baafa_row18_col2, #T_baafa_row18_col3, #T_baafa_row18_col4, #T_baafa_row18_col5, #T_baafa_row18_col6, #T_baafa_row19_col0, #T_baafa_row19_col1, #T_baafa_row19_col2, #T_baafa_row19_col3, #T_baafa_row19_col4, #T_baafa_row19_col5, #T_baafa_row19_col6 {\n",
       "  text-align: left;\n",
       "}\n",
       "#T_baafa_row0_col1, #T_baafa_row0_col5, #T_baafa_row0_col6, #T_baafa_row1_col2, #T_baafa_row1_col3, #T_baafa_row1_col4 {\n",
       "  text-align: left;\n",
       "  background-color: yellow;\n",
       "}\n",
       "#T_baafa_row0_col7, #T_baafa_row1_col7, #T_baafa_row2_col7, #T_baafa_row3_col7, #T_baafa_row4_col7, #T_baafa_row5_col7, #T_baafa_row6_col7, #T_baafa_row7_col7, #T_baafa_row8_col7, #T_baafa_row9_col7, #T_baafa_row10_col7, #T_baafa_row12_col7, #T_baafa_row13_col7, #T_baafa_row14_col7, #T_baafa_row15_col7, #T_baafa_row16_col7, #T_baafa_row17_col7, #T_baafa_row18_col7, #T_baafa_row19_col7 {\n",
       "  text-align: left;\n",
       "  background-color: lightgrey;\n",
       "}\n",
       "#T_baafa_row11_col7 {\n",
       "  text-align: left;\n",
       "  background-color: yellow;\n",
       "  background-color: lightgrey;\n",
       "}\n",
       "</style>\n",
       "<table id=\"T_baafa\">\n",
       "  <thead>\n",
       "    <tr>\n",
       "      <th class=\"blank level0\" >&nbsp;</th>\n",
       "      <th id=\"T_baafa_level0_col0\" class=\"col_heading level0 col0\" >Model</th>\n",
       "      <th id=\"T_baafa_level0_col1\" class=\"col_heading level0 col1\" >MAE</th>\n",
       "      <th id=\"T_baafa_level0_col2\" class=\"col_heading level0 col2\" >MSE</th>\n",
       "      <th id=\"T_baafa_level0_col3\" class=\"col_heading level0 col3\" >RMSE</th>\n",
       "      <th id=\"T_baafa_level0_col4\" class=\"col_heading level0 col4\" >R2</th>\n",
       "      <th id=\"T_baafa_level0_col5\" class=\"col_heading level0 col5\" >RMSLE</th>\n",
       "      <th id=\"T_baafa_level0_col6\" class=\"col_heading level0 col6\" >MAPE</th>\n",
       "      <th id=\"T_baafa_level0_col7\" class=\"col_heading level0 col7\" >TT (Sec)</th>\n",
       "    </tr>\n",
       "  </thead>\n",
       "  <tbody>\n",
       "    <tr>\n",
       "      <th id=\"T_baafa_level0_row0\" class=\"row_heading level0 row0\" >et</th>\n",
       "      <td id=\"T_baafa_row0_col0\" class=\"data row0 col0\" >Extra Trees Regressor</td>\n",
       "      <td id=\"T_baafa_row0_col1\" class=\"data row0 col1\" >57.4717</td>\n",
       "      <td id=\"T_baafa_row0_col2\" class=\"data row0 col2\" >28435.7033</td>\n",
       "      <td id=\"T_baafa_row0_col3\" class=\"data row0 col3\" >150.2049</td>\n",
       "      <td id=\"T_baafa_row0_col4\" class=\"data row0 col4\" >0.9129</td>\n",
       "      <td id=\"T_baafa_row0_col5\" class=\"data row0 col5\" >0.1354</td>\n",
       "      <td id=\"T_baafa_row0_col6\" class=\"data row0 col6\" >0.1042</td>\n",
       "      <td id=\"T_baafa_row0_col7\" class=\"data row0 col7\" >0.0920</td>\n",
       "    </tr>\n",
       "    <tr>\n",
       "      <th id=\"T_baafa_level0_row1\" class=\"row_heading level0 row1\" >knn</th>\n",
       "      <td id=\"T_baafa_row1_col0\" class=\"data row1 col0\" >K Neighbors Regressor</td>\n",
       "      <td id=\"T_baafa_row1_col1\" class=\"data row1 col1\" >61.5163</td>\n",
       "      <td id=\"T_baafa_row1_col2\" class=\"data row1 col2\" >21654.4012</td>\n",
       "      <td id=\"T_baafa_row1_col3\" class=\"data row1 col3\" >134.2148</td>\n",
       "      <td id=\"T_baafa_row1_col4\" class=\"data row1 col4\" >0.9229</td>\n",
       "      <td id=\"T_baafa_row1_col5\" class=\"data row1 col5\" >0.1421</td>\n",
       "      <td id=\"T_baafa_row1_col6\" class=\"data row1 col6\" >0.1219</td>\n",
       "      <td id=\"T_baafa_row1_col7\" class=\"data row1 col7\" >0.0440</td>\n",
       "    </tr>\n",
       "    <tr>\n",
       "      <th id=\"T_baafa_level0_row2\" class=\"row_heading level0 row2\" >lightgbm</th>\n",
       "      <td id=\"T_baafa_row2_col0\" class=\"data row2 col0\" >Light Gradient Boosting Machine</td>\n",
       "      <td id=\"T_baafa_row2_col1\" class=\"data row2 col1\" >84.8242</td>\n",
       "      <td id=\"T_baafa_row2_col2\" class=\"data row2 col2\" >28738.8093</td>\n",
       "      <td id=\"T_baafa_row2_col3\" class=\"data row2 col3\" >163.6827</td>\n",
       "      <td id=\"T_baafa_row2_col4\" class=\"data row2 col4\" >0.8906</td>\n",
       "      <td id=\"T_baafa_row2_col5\" class=\"data row2 col5\" >0.2015</td>\n",
       "      <td id=\"T_baafa_row2_col6\" class=\"data row2 col6\" >0.1749</td>\n",
       "      <td id=\"T_baafa_row2_col7\" class=\"data row2 col7\" >0.1000</td>\n",
       "    </tr>\n",
       "    <tr>\n",
       "      <th id=\"T_baafa_level0_row3\" class=\"row_heading level0 row3\" >gbr</th>\n",
       "      <td id=\"T_baafa_row3_col0\" class=\"data row3 col0\" >Gradient Boosting Regressor</td>\n",
       "      <td id=\"T_baafa_row3_col1\" class=\"data row3 col1\" >84.9788</td>\n",
       "      <td id=\"T_baafa_row3_col2\" class=\"data row3 col2\" >30109.4011</td>\n",
       "      <td id=\"T_baafa_row3_col3\" class=\"data row3 col3\" >167.2545</td>\n",
       "      <td id=\"T_baafa_row3_col4\" class=\"data row3 col4\" >0.8964</td>\n",
       "      <td id=\"T_baafa_row3_col5\" class=\"data row3 col5\" >0.2017</td>\n",
       "      <td id=\"T_baafa_row3_col6\" class=\"data row3 col6\" >0.1794</td>\n",
       "      <td id=\"T_baafa_row3_col7\" class=\"data row3 col7\" >0.0560</td>\n",
       "    </tr>\n",
       "    <tr>\n",
       "      <th id=\"T_baafa_level0_row4\" class=\"row_heading level0 row4\" >xgboost</th>\n",
       "      <td id=\"T_baafa_row4_col0\" class=\"data row4 col0\" >Extreme Gradient Boosting</td>\n",
       "      <td id=\"T_baafa_row4_col1\" class=\"data row4 col1\" >85.8859</td>\n",
       "      <td id=\"T_baafa_row4_col2\" class=\"data row4 col2\" >31981.1955</td>\n",
       "      <td id=\"T_baafa_row4_col3\" class=\"data row4 col3\" >171.0986</td>\n",
       "      <td id=\"T_baafa_row4_col4\" class=\"data row4 col4\" >0.8942</td>\n",
       "      <td id=\"T_baafa_row4_col5\" class=\"data row4 col5\" >0.1999</td>\n",
       "      <td id=\"T_baafa_row4_col6\" class=\"data row4 col6\" >0.1779</td>\n",
       "      <td id=\"T_baafa_row4_col7\" class=\"data row4 col7\" >0.0760</td>\n",
       "    </tr>\n",
       "    <tr>\n",
       "      <th id=\"T_baafa_level0_row5\" class=\"row_heading level0 row5\" >catboost</th>\n",
       "      <td id=\"T_baafa_row5_col0\" class=\"data row5 col0\" >CatBoost Regressor</td>\n",
       "      <td id=\"T_baafa_row5_col1\" class=\"data row5 col1\" >86.6655</td>\n",
       "      <td id=\"T_baafa_row5_col2\" class=\"data row5 col2\" >32576.2140</td>\n",
       "      <td id=\"T_baafa_row5_col3\" class=\"data row5 col3\" >173.0789</td>\n",
       "      <td id=\"T_baafa_row5_col4\" class=\"data row5 col4\" >0.8924</td>\n",
       "      <td id=\"T_baafa_row5_col5\" class=\"data row5 col5\" >0.2011</td>\n",
       "      <td id=\"T_baafa_row5_col6\" class=\"data row5 col6\" >0.1792</td>\n",
       "      <td id=\"T_baafa_row5_col7\" class=\"data row5 col7\" >0.4720</td>\n",
       "    </tr>\n",
       "    <tr>\n",
       "      <th id=\"T_baafa_level0_row6\" class=\"row_heading level0 row6\" >rf</th>\n",
       "      <td id=\"T_baafa_row6_col0\" class=\"data row6 col0\" >Random Forest Regressor</td>\n",
       "      <td id=\"T_baafa_row6_col1\" class=\"data row6 col1\" >87.1253</td>\n",
       "      <td id=\"T_baafa_row6_col2\" class=\"data row6 col2\" >31067.2672</td>\n",
       "      <td id=\"T_baafa_row6_col3\" class=\"data row6 col3\" >169.4266</td>\n",
       "      <td id=\"T_baafa_row6_col4\" class=\"data row6 col4\" >0.8936</td>\n",
       "      <td id=\"T_baafa_row6_col5\" class=\"data row6 col5\" >0.2012</td>\n",
       "      <td id=\"T_baafa_row6_col6\" class=\"data row6 col6\" >0.1798</td>\n",
       "      <td id=\"T_baafa_row6_col7\" class=\"data row6 col7\" >0.1040</td>\n",
       "    </tr>\n",
       "    <tr>\n",
       "      <th id=\"T_baafa_level0_row7\" class=\"row_heading level0 row7\" >dt</th>\n",
       "      <td id=\"T_baafa_row7_col0\" class=\"data row7 col0\" >Decision Tree Regressor</td>\n",
       "      <td id=\"T_baafa_row7_col1\" class=\"data row7 col1\" >88.1423</td>\n",
       "      <td id=\"T_baafa_row7_col2\" class=\"data row7 col2\" >35928.0814</td>\n",
       "      <td id=\"T_baafa_row7_col3\" class=\"data row7 col3\" >179.2855</td>\n",
       "      <td id=\"T_baafa_row7_col4\" class=\"data row7 col4\" >0.8865</td>\n",
       "      <td id=\"T_baafa_row7_col5\" class=\"data row7 col5\" >0.2032</td>\n",
       "      <td id=\"T_baafa_row7_col6\" class=\"data row7 col6\" >0.1793</td>\n",
       "      <td id=\"T_baafa_row7_col7\" class=\"data row7 col7\" >0.0500</td>\n",
       "    </tr>\n",
       "    <tr>\n",
       "      <th id=\"T_baafa_level0_row8\" class=\"row_heading level0 row8\" >llar</th>\n",
       "      <td id=\"T_baafa_row8_col0\" class=\"data row8 col0\" >Lasso Least Angle Regression</td>\n",
       "      <td id=\"T_baafa_row8_col1\" class=\"data row8 col1\" >100.2569</td>\n",
       "      <td id=\"T_baafa_row8_col2\" class=\"data row8 col2\" >33487.5489</td>\n",
       "      <td id=\"T_baafa_row8_col3\" class=\"data row8 col3\" >160.5791</td>\n",
       "      <td id=\"T_baafa_row8_col4\" class=\"data row8 col4\" >0.8567</td>\n",
       "      <td id=\"T_baafa_row8_col5\" class=\"data row8 col5\" >0.4793</td>\n",
       "      <td id=\"T_baafa_row8_col6\" class=\"data row8 col6\" >0.3465</td>\n",
       "      <td id=\"T_baafa_row8_col7\" class=\"data row8 col7\" >0.0480</td>\n",
       "    </tr>\n",
       "    <tr>\n",
       "      <th id=\"T_baafa_level0_row9\" class=\"row_heading level0 row9\" >en</th>\n",
       "      <td id=\"T_baafa_row9_col0\" class=\"data row9 col0\" >Elastic Net</td>\n",
       "      <td id=\"T_baafa_row9_col1\" class=\"data row9 col1\" >103.4087</td>\n",
       "      <td id=\"T_baafa_row9_col2\" class=\"data row9 col2\" >38086.3516</td>\n",
       "      <td id=\"T_baafa_row9_col3\" class=\"data row9 col3\" >175.6276</td>\n",
       "      <td id=\"T_baafa_row9_col4\" class=\"data row9 col4\" >0.8424</td>\n",
       "      <td id=\"T_baafa_row9_col5\" class=\"data row9 col5\" >0.2932</td>\n",
       "      <td id=\"T_baafa_row9_col6\" class=\"data row9 col6\" >0.2698</td>\n",
       "      <td id=\"T_baafa_row9_col7\" class=\"data row9 col7\" >1.1720</td>\n",
       "    </tr>\n",
       "    <tr>\n",
       "      <th id=\"T_baafa_level0_row10\" class=\"row_heading level0 row10\" >lasso</th>\n",
       "      <td id=\"T_baafa_row10_col0\" class=\"data row10 col0\" >Lasso Regression</td>\n",
       "      <td id=\"T_baafa_row10_col1\" class=\"data row10 col1\" >103.4964</td>\n",
       "      <td id=\"T_baafa_row10_col2\" class=\"data row10 col2\" >34023.1512</td>\n",
       "      <td id=\"T_baafa_row10_col3\" class=\"data row10 col3\" >162.9395</td>\n",
       "      <td id=\"T_baafa_row10_col4\" class=\"data row10 col4\" >0.8529</td>\n",
       "      <td id=\"T_baafa_row10_col5\" class=\"data row10 col5\" >0.6101</td>\n",
       "      <td id=\"T_baafa_row10_col6\" class=\"data row10 col6\" >0.3829</td>\n",
       "      <td id=\"T_baafa_row10_col7\" class=\"data row10 col7\" >1.3800</td>\n",
       "    </tr>\n",
       "    <tr>\n",
       "      <th id=\"T_baafa_level0_row11\" class=\"row_heading level0 row11\" >br</th>\n",
       "      <td id=\"T_baafa_row11_col0\" class=\"data row11 col0\" >Bayesian Ridge</td>\n",
       "      <td id=\"T_baafa_row11_col1\" class=\"data row11 col1\" >103.9443</td>\n",
       "      <td id=\"T_baafa_row11_col2\" class=\"data row11 col2\" >34167.6808</td>\n",
       "      <td id=\"T_baafa_row11_col3\" class=\"data row11 col3\" >163.4154</td>\n",
       "      <td id=\"T_baafa_row11_col4\" class=\"data row11 col4\" >0.8527</td>\n",
       "      <td id=\"T_baafa_row11_col5\" class=\"data row11 col5\" >0.6232</td>\n",
       "      <td id=\"T_baafa_row11_col6\" class=\"data row11 col6\" >0.3855</td>\n",
       "      <td id=\"T_baafa_row11_col7\" class=\"data row11 col7\" >0.0400</td>\n",
       "    </tr>\n",
       "    <tr>\n",
       "      <th id=\"T_baafa_level0_row12\" class=\"row_heading level0 row12\" >ridge</th>\n",
       "      <td id=\"T_baafa_row12_col0\" class=\"data row12 col0\" >Ridge Regression</td>\n",
       "      <td id=\"T_baafa_row12_col1\" class=\"data row12 col1\" >105.1581</td>\n",
       "      <td id=\"T_baafa_row12_col2\" class=\"data row12 col2\" >34484.4902</td>\n",
       "      <td id=\"T_baafa_row12_col3\" class=\"data row12 col3\" >165.1165</td>\n",
       "      <td id=\"T_baafa_row12_col4\" class=\"data row12 col4\" >0.8510</td>\n",
       "      <td id=\"T_baafa_row12_col5\" class=\"data row12 col5\" >0.6417</td>\n",
       "      <td id=\"T_baafa_row12_col6\" class=\"data row12 col6\" >0.3932</td>\n",
       "      <td id=\"T_baafa_row12_col7\" class=\"data row12 col7\" >1.4160</td>\n",
       "    </tr>\n",
       "    <tr>\n",
       "      <th id=\"T_baafa_level0_row13\" class=\"row_heading level0 row13\" >lr</th>\n",
       "      <td id=\"T_baafa_row13_col0\" class=\"data row13 col0\" >Linear Regression</td>\n",
       "      <td id=\"T_baafa_row13_col1\" class=\"data row13 col1\" >107.0395</td>\n",
       "      <td id=\"T_baafa_row13_col2\" class=\"data row13 col2\" >35082.3860</td>\n",
       "      <td id=\"T_baafa_row13_col3\" class=\"data row13 col3\" >166.6461</td>\n",
       "      <td id=\"T_baafa_row13_col4\" class=\"data row13 col4\" >0.8483</td>\n",
       "      <td id=\"T_baafa_row13_col5\" class=\"data row13 col5\" >0.6428</td>\n",
       "      <td id=\"T_baafa_row13_col6\" class=\"data row13 col6\" >0.3953</td>\n",
       "      <td id=\"T_baafa_row13_col7\" class=\"data row13 col7\" >1.6200</td>\n",
       "    </tr>\n",
       "    <tr>\n",
       "      <th id=\"T_baafa_level0_row14\" class=\"row_heading level0 row14\" >ada</th>\n",
       "      <td id=\"T_baafa_row14_col0\" class=\"data row14 col0\" >AdaBoost Regressor</td>\n",
       "      <td id=\"T_baafa_row14_col1\" class=\"data row14 col1\" >108.6194</td>\n",
       "      <td id=\"T_baafa_row14_col2\" class=\"data row14 col2\" >45711.2595</td>\n",
       "      <td id=\"T_baafa_row14_col3\" class=\"data row14 col3\" >204.6927</td>\n",
       "      <td id=\"T_baafa_row14_col4\" class=\"data row14 col4\" >0.8316</td>\n",
       "      <td id=\"T_baafa_row14_col5\" class=\"data row14 col5\" >0.2451</td>\n",
       "      <td id=\"T_baafa_row14_col6\" class=\"data row14 col6\" >0.2438</td>\n",
       "      <td id=\"T_baafa_row14_col7\" class=\"data row14 col7\" >0.0720</td>\n",
       "    </tr>\n",
       "    <tr>\n",
       "      <th id=\"T_baafa_level0_row15\" class=\"row_heading level0 row15\" >huber</th>\n",
       "      <td id=\"T_baafa_row15_col0\" class=\"data row15 col0\" >Huber Regressor</td>\n",
       "      <td id=\"T_baafa_row15_col1\" class=\"data row15 col1\" >109.3835</td>\n",
       "      <td id=\"T_baafa_row15_col2\" class=\"data row15 col2\" >45418.5051</td>\n",
       "      <td id=\"T_baafa_row15_col3\" class=\"data row15 col3\" >194.0021</td>\n",
       "      <td id=\"T_baafa_row15_col4\" class=\"data row15 col4\" >0.7950</td>\n",
       "      <td id=\"T_baafa_row15_col5\" class=\"data row15 col5\" >0.2585</td>\n",
       "      <td id=\"T_baafa_row15_col6\" class=\"data row15 col6\" >0.2538</td>\n",
       "      <td id=\"T_baafa_row15_col7\" class=\"data row15 col7\" >0.0520</td>\n",
       "    </tr>\n",
       "    <tr>\n",
       "      <th id=\"T_baafa_level0_row16\" class=\"row_heading level0 row16\" >omp</th>\n",
       "      <td id=\"T_baafa_row16_col0\" class=\"data row16 col0\" >Orthogonal Matching Pursuit</td>\n",
       "      <td id=\"T_baafa_row16_col1\" class=\"data row16 col1\" >141.2747</td>\n",
       "      <td id=\"T_baafa_row16_col2\" class=\"data row16 col2\" >50615.1680</td>\n",
       "      <td id=\"T_baafa_row16_col3\" class=\"data row16 col3\" >205.8196</td>\n",
       "      <td id=\"T_baafa_row16_col4\" class=\"data row16 col4\" >0.7697</td>\n",
       "      <td id=\"T_baafa_row16_col5\" class=\"data row16 col5\" >0.4380</td>\n",
       "      <td id=\"T_baafa_row16_col6\" class=\"data row16 col6\" >0.4905</td>\n",
       "      <td id=\"T_baafa_row16_col7\" class=\"data row16 col7\" >0.0440</td>\n",
       "    </tr>\n",
       "    <tr>\n",
       "      <th id=\"T_baafa_level0_row17\" class=\"row_heading level0 row17\" >dummy</th>\n",
       "      <td id=\"T_baafa_row17_col0\" class=\"data row17 col0\" >Dummy Regressor</td>\n",
       "      <td id=\"T_baafa_row17_col1\" class=\"data row17 col1\" >416.6668</td>\n",
       "      <td id=\"T_baafa_row17_col2\" class=\"data row17 col2\" >340752.0998</td>\n",
       "      <td id=\"T_baafa_row17_col3\" class=\"data row17 col3\" >569.0752</td>\n",
       "      <td id=\"T_baafa_row17_col4\" class=\"data row17 col4\" >-0.0971</td>\n",
       "      <td id=\"T_baafa_row17_col5\" class=\"data row17 col5\" >1.0771</td>\n",
       "      <td id=\"T_baafa_row17_col6\" class=\"data row17 col6\" >1.6538</td>\n",
       "      <td id=\"T_baafa_row17_col7\" class=\"data row17 col7\" >0.0440</td>\n",
       "    </tr>\n",
       "    <tr>\n",
       "      <th id=\"T_baafa_level0_row18\" class=\"row_heading level0 row18\" >par</th>\n",
       "      <td id=\"T_baafa_row18_col0\" class=\"data row18 col0\" >Passive Aggressive Regressor</td>\n",
       "      <td id=\"T_baafa_row18_col1\" class=\"data row18 col1\" >892.2430</td>\n",
       "      <td id=\"T_baafa_row18_col2\" class=\"data row18 col2\" >1365364.8193</td>\n",
       "      <td id=\"T_baafa_row18_col3\" class=\"data row18 col3\" >1022.9227</td>\n",
       "      <td id=\"T_baafa_row18_col4\" class=\"data row18 col4\" >-4.7598</td>\n",
       "      <td id=\"T_baafa_row18_col5\" class=\"data row18 col5\" >1.5182</td>\n",
       "      <td id=\"T_baafa_row18_col6\" class=\"data row18 col6\" >4.6469</td>\n",
       "      <td id=\"T_baafa_row18_col7\" class=\"data row18 col7\" >0.0460</td>\n",
       "    </tr>\n",
       "    <tr>\n",
       "      <th id=\"T_baafa_level0_row19\" class=\"row_heading level0 row19\" >lar</th>\n",
       "      <td id=\"T_baafa_row19_col0\" class=\"data row19 col0\" >Least Angle Regression</td>\n",
       "      <td id=\"T_baafa_row19_col1\" class=\"data row19 col1\" >682445.2538</td>\n",
       "      <td id=\"T_baafa_row19_col2\" class=\"data row19 col2\" >13581314939172.6523</td>\n",
       "      <td id=\"T_baafa_row19_col3\" class=\"data row19 col3\" >1772389.6806</td>\n",
       "      <td id=\"T_baafa_row19_col4\" class=\"data row19 col4\" >-30551872.0476</td>\n",
       "      <td id=\"T_baafa_row19_col5\" class=\"data row19 col5\" >4.3746</td>\n",
       "      <td id=\"T_baafa_row19_col6\" class=\"data row19 col6\" >1391.6558</td>\n",
       "      <td id=\"T_baafa_row19_col7\" class=\"data row19 col7\" >0.0440</td>\n",
       "    </tr>\n",
       "  </tbody>\n",
       "</table>\n"
      ],
      "text/plain": [
       "<pandas.io.formats.style.Styler at 0x2493f69ff70>"
      ]
     },
     "metadata": {},
     "output_type": "display_data"
    },
    {
     "data": {
      "text/html": [],
      "text/plain": [
       "<IPython.core.display.HTML object>"
      ]
     },
     "metadata": {},
     "output_type": "display_data"
    },
    {
     "name": "stdout",
     "output_type": "stream",
     "text": [
      "                                    Model       MAE         MSE      RMSE  \\\n",
      "et                  Extra Trees Regressor   57.4717  28435.7033  150.2049   \n",
      "knn                 K Neighbors Regressor   61.5163  21654.4012  134.2148   \n",
      "lightgbm  Light Gradient Boosting Machine   84.8242  28738.8093  163.6827   \n",
      "gbr           Gradient Boosting Regressor   84.9788  30109.4011  167.2545   \n",
      "xgboost         Extreme Gradient Boosting   85.8859  31981.1955  171.0986   \n",
      "catboost               CatBoost Regressor   86.6655  32576.2140  173.0789   \n",
      "rf                Random Forest Regressor   87.1253  31067.2672  169.4266   \n",
      "dt                Decision Tree Regressor   88.1423  35928.0814  179.2855   \n",
      "llar         Lasso Least Angle Regression  100.2569  33487.5489  160.5791   \n",
      "en                            Elastic Net  103.4087  38086.3516  175.6276   \n",
      "\n",
      "              R2   RMSLE    MAPE  TT (Sec)  \n",
      "et        0.9129  0.1354  0.1042     0.092  \n",
      "knn       0.9229  0.1421  0.1219     0.044  \n",
      "lightgbm  0.8906  0.2015  0.1749     0.100  \n",
      "gbr       0.8964  0.2017  0.1794     0.056  \n",
      "xgboost   0.8942  0.1999  0.1779     0.076  \n",
      "catboost  0.8924  0.2011  0.1792     0.472  \n",
      "rf        0.8936  0.2012  0.1798     0.104  \n",
      "dt        0.8865  0.2032  0.1793     0.050  \n",
      "llar      0.8567  0.4793  0.3465     0.048  \n",
      "en        0.8424  0.2932  0.2698     1.172  \n"
     ]
    },
    {
     "data": {
      "text/html": [],
      "text/plain": [
       "<IPython.core.display.HTML object>"
      ]
     },
     "metadata": {},
     "output_type": "display_data"
    },
    {
     "data": {
      "image/png": "[encoded data removed]",
      "text/plain": [
       "<Figure size 800x550 with 2 Axes>"
      ]
     },
     "metadata": {},
     "output_type": "display_data"
    },
    {
     "data": {
      "text/html": [],
      "text/plain": [
       "<IPython.core.display.HTML object>"
      ]
     },
     "metadata": {},
     "output_type": "display_data"
    },
    {
     "data": {
      "image/png": "[encoded data removed]",
      "text/plain": [
       "<Figure size 800x500 with 1 Axes>"
      ]
     },
     "metadata": {},
     "output_type": "display_data"
    }
   ],
   "source": [
    "import pandas as pd\n",
    "from pycaret.regression import *\n",
    "\n",
    "ruta = r\"C:\\Users\\FABIO\\Downloads\\temporadas_seg_tipo_personas_2020_2024_50k_FLAT.csv\"\n",
    "df50 = pd.read_csv(ruta, encoding=\"utf-8-sig\")\n",
    "\n",
    "# 1) Agregar al nivel correcto (TARGET útil)\n",
    "keys = [\"temporada\",\"anio\",\"segmento\",\"Tipo_viajero\",\n",
    "        \"duracion_dias\",\"mes_inicio\",\"es_evento_ciudad\",\"es_semana_santa\",\"es_navidad\",\"es_puente\"]\n",
    "train = (df50\n",
    "         .groupby(keys, as_index=False)[\"personas\"]\n",
    "         .sum()\n",
    "         .rename(columns={\"personas\":\"personas_total\"}))\n",
    "\n",
    "# 2) PyCaret en REGRESIÓN\n",
    "exp = setup(\n",
    "    data=train,\n",
    "    target=\"personas_total\",\n",
    "    fold=5,\n",
    "    fold_strategy=\"groupkfold\",   # no mezclar años entre folds\n",
    "    fold_groups=train[\"anio\"],\n",
    "    categorical_features=[\"temporada\",\"segmento\",\"Tipo_viajero\"],\n",
    "    numeric_features=[\"anio\",\"duracion_dias\",\"mes_inicio\",\n",
    "                      \"es_evento_ciudad\",\"es_semana_santa\",\"es_navidad\",\"es_puente\"],\n",
    "    session_id=42,\n",
    "    verbose=False\n",
    ")\n",
    "\n",
    "best = compare_models(sort=\"MAE\")\n",
    "print(pull().head(10))\n",
    "plot_model(best, plot=\"residuals\")\n",
    "plot_model(best, plot=\"feature\")\n"
   ]
  },
  {
   "cell_type": "code",
   "execution_count": 4,
   "id": "7a67d43b",
   "metadata": {},
   "outputs": [
    {
     "data": {
      "text/html": [],
      "text/plain": [
       "<IPython.core.display.HTML object>"
      ]
     },
     "metadata": {},
     "output_type": "display_data"
    },
    {
     "data": {
      "text/html": [],
      "text/plain": [
       "<IPython.core.display.HTML object>"
      ]
     },
     "metadata": {},
     "output_type": "display_data"
    },
    {
     "data": {
      "text/html": [],
      "text/plain": [
       "<IPython.core.display.HTML object>"
      ]
     },
     "metadata": {},
     "output_type": "display_data"
    },
    {
     "data": {
      "text/html": [],
      "text/plain": [
       "<IPython.core.display.HTML object>"
      ]
     },
     "metadata": {},
     "output_type": "display_data"
    },
    {
     "data": {
      "text/html": [
       "<style type=\"text/css\">\n",
       "#T_0b584_row5_col0, #T_0b584_row5_col1, #T_0b584_row5_col2, #T_0b584_row5_col3, #T_0b584_row5_col4, #T_0b584_row5_col5 {\n",
       "  background: yellow;\n",
       "}\n",
       "</style>\n",
       "<table id=\"T_0b584\">\n",
       "  <thead>\n",
       "    <tr>\n",
       "      <th class=\"blank level0\" >&nbsp;</th>\n",
       "      <th id=\"T_0b584_level0_col0\" class=\"col_heading level0 col0\" >MAE</th>\n",
       "      <th id=\"T_0b584_level0_col1\" class=\"col_heading level0 col1\" >MSE</th>\n",
       "      <th id=\"T_0b584_level0_col2\" class=\"col_heading level0 col2\" >RMSE</th>\n",
       "      <th id=\"T_0b584_level0_col3\" class=\"col_heading level0 col3\" >R2</th>\n",
       "      <th id=\"T_0b584_level0_col4\" class=\"col_heading level0 col4\" >RMSLE</th>\n",
       "      <th id=\"T_0b584_level0_col5\" class=\"col_heading level0 col5\" >MAPE</th>\n",
       "    </tr>\n",
       "    <tr>\n",
       "      <th class=\"index_name level0\" >Fold</th>\n",
       "      <th class=\"blank col0\" >&nbsp;</th>\n",
       "      <th class=\"blank col1\" >&nbsp;</th>\n",
       "      <th class=\"blank col2\" >&nbsp;</th>\n",
       "      <th class=\"blank col3\" >&nbsp;</th>\n",
       "      <th class=\"blank col4\" >&nbsp;</th>\n",
       "      <th class=\"blank col5\" >&nbsp;</th>\n",
       "    </tr>\n",
       "  </thead>\n",
       "  <tbody>\n",
       "    <tr>\n",
       "      <th id=\"T_0b584_level0_row0\" class=\"row_heading level0 row0\" >0</th>\n",
       "      <td id=\"T_0b584_row0_col0\" class=\"data row0 col0\" >61.8431</td>\n",
       "      <td id=\"T_0b584_row0_col1\" class=\"data row0 col1\" >50813.5102</td>\n",
       "      <td id=\"T_0b584_row0_col2\" class=\"data row0 col2\" >225.4185</td>\n",
       "      <td id=\"T_0b584_row0_col3\" class=\"data row0 col3\" >0.8858</td>\n",
       "      <td id=\"T_0b584_row0_col4\" class=\"data row0 col4\" >0.1389</td>\n",
       "      <td id=\"T_0b584_row0_col5\" class=\"data row0 col5\" >0.0556</td>\n",
       "    </tr>\n",
       "    <tr>\n",
       "      <th id=\"T_0b584_level0_row1\" class=\"row_heading level0 row1\" >1</th>\n",
       "      <td id=\"T_0b584_row1_col0\" class=\"data row1 col0\" >76.9900</td>\n",
       "      <td id=\"T_0b584_row1_col1\" class=\"data row1 col1\" >21195.6147</td>\n",
       "      <td id=\"T_0b584_row1_col2\" class=\"data row1 col2\" >145.5871</td>\n",
       "      <td id=\"T_0b584_row1_col3\" class=\"data row1 col3\" >0.9573</td>\n",
       "      <td id=\"T_0b584_row1_col4\" class=\"data row1 col4\" >0.1154</td>\n",
       "      <td id=\"T_0b584_row1_col5\" class=\"data row1 col5\" >0.0999</td>\n",
       "    </tr>\n",
       "    <tr>\n",
       "      <th id=\"T_0b584_level0_row2\" class=\"row_heading level0 row2\" >2</th>\n",
       "      <td id=\"T_0b584_row2_col0\" class=\"data row2 col0\" >38.7248</td>\n",
       "      <td id=\"T_0b584_row2_col1\" class=\"data row2 col1\" >7982.7159</td>\n",
       "      <td id=\"T_0b584_row2_col2\" class=\"data row2 col2\" >89.3460</td>\n",
       "      <td id=\"T_0b584_row2_col3\" class=\"data row2 col3\" >0.9787</td>\n",
       "      <td id=\"T_0b584_row2_col4\" class=\"data row2 col4\" >0.0854</td>\n",
       "      <td id=\"T_0b584_row2_col5\" class=\"data row2 col5\" >0.0609</td>\n",
       "    </tr>\n",
       "    <tr>\n",
       "      <th id=\"T_0b584_level0_row3\" class=\"row_heading level0 row3\" >3</th>\n",
       "      <td id=\"T_0b584_row3_col0\" class=\"data row3 col0\" >102.2991</td>\n",
       "      <td id=\"T_0b584_row3_col1\" class=\"data row3 col1\" >25756.8431</td>\n",
       "      <td id=\"T_0b584_row3_col2\" class=\"data row3 col2\" >160.4894</td>\n",
       "      <td id=\"T_0b584_row3_col3\" class=\"data row3 col3\" >0.8092</td>\n",
       "      <td id=\"T_0b584_row3_col4\" class=\"data row3 col4\" >0.2763</td>\n",
       "      <td id=\"T_0b584_row3_col5\" class=\"data row3 col5\" >0.3171</td>\n",
       "    </tr>\n",
       "    <tr>\n",
       "      <th id=\"T_0b584_level0_row4\" class=\"row_heading level0 row4\" >4</th>\n",
       "      <td id=\"T_0b584_row4_col0\" class=\"data row4 col0\" >27.7245</td>\n",
       "      <td id=\"T_0b584_row4_col1\" class=\"data row4 col1\" >2523.3223</td>\n",
       "      <td id=\"T_0b584_row4_col2\" class=\"data row4 col2\" >50.2327</td>\n",
       "      <td id=\"T_0b584_row4_col3\" class=\"data row4 col3\" >0.9838</td>\n",
       "      <td id=\"T_0b584_row4_col4\" class=\"data row4 col4\" >0.0946</td>\n",
       "      <td id=\"T_0b584_row4_col5\" class=\"data row4 col5\" >0.0760</td>\n",
       "    </tr>\n",
       "    <tr>\n",
       "      <th id=\"T_0b584_level0_row5\" class=\"row_heading level0 row5\" >Mean</th>\n",
       "      <td id=\"T_0b584_row5_col0\" class=\"data row5 col0\" >61.5163</td>\n",
       "      <td id=\"T_0b584_row5_col1\" class=\"data row5 col1\" >21654.4012</td>\n",
       "      <td id=\"T_0b584_row5_col2\" class=\"data row5 col2\" >134.2148</td>\n",
       "      <td id=\"T_0b584_row5_col3\" class=\"data row5 col3\" >0.9229</td>\n",
       "      <td id=\"T_0b584_row5_col4\" class=\"data row5 col4\" >0.1421</td>\n",
       "      <td id=\"T_0b584_row5_col5\" class=\"data row5 col5\" >0.1219</td>\n",
       "    </tr>\n",
       "    <tr>\n",
       "      <th id=\"T_0b584_level0_row6\" class=\"row_heading level0 row6\" >Std</th>\n",
       "      <td id=\"T_0b584_row6_col0\" class=\"data row6 col0\" >26.6988</td>\n",
       "      <td id=\"T_0b584_row6_col1\" class=\"data row6 col1\" >16853.5297</td>\n",
       "      <td id=\"T_0b584_row6_col2\" class=\"data row6 col2\" >60.3390</td>\n",
       "      <td id=\"T_0b584_row6_col3\" class=\"data row6 col3\" >0.0668</td>\n",
       "      <td id=\"T_0b584_row6_col4\" class=\"data row6 col4\" >0.0696</td>\n",
       "      <td id=\"T_0b584_row6_col5\" class=\"data row6 col5\" >0.0988</td>\n",
       "    </tr>\n",
       "  </tbody>\n",
       "</table>\n"
      ],
      "text/plain": [
       "<pandas.io.formats.style.Styler at 0x2493fbf4a30>"
      ]
     },
     "metadata": {},
     "output_type": "display_data"
    },
    {
     "data": {
      "text/html": [],
      "text/plain": [
       "<IPython.core.display.HTML object>"
      ]
     },
     "metadata": {},
     "output_type": "display_data"
    },
    {
     "data": {
      "text/html": [],
      "text/plain": [
       "<IPython.core.display.HTML object>"
      ]
     },
     "metadata": {},
     "output_type": "display_data"
    },
    {
     "data": {
      "text/html": [
       "<style type=\"text/css\">\n",
       "#T_db265_row5_col0, #T_db265_row5_col1, #T_db265_row5_col2, #T_db265_row5_col3, #T_db265_row5_col4, #T_db265_row5_col5 {\n",
       "  background: yellow;\n",
       "}\n",
       "</style>\n",
       "<table id=\"T_db265\">\n",
       "  <thead>\n",
       "    <tr>\n",
       "      <th class=\"blank level0\" >&nbsp;</th>\n",
       "      <th id=\"T_db265_level0_col0\" class=\"col_heading level0 col0\" >MAE</th>\n",
       "      <th id=\"T_db265_level0_col1\" class=\"col_heading level0 col1\" >MSE</th>\n",
       "      <th id=\"T_db265_level0_col2\" class=\"col_heading level0 col2\" >RMSE</th>\n",
       "      <th id=\"T_db265_level0_col3\" class=\"col_heading level0 col3\" >R2</th>\n",
       "      <th id=\"T_db265_level0_col4\" class=\"col_heading level0 col4\" >RMSLE</th>\n",
       "      <th id=\"T_db265_level0_col5\" class=\"col_heading level0 col5\" >MAPE</th>\n",
       "    </tr>\n",
       "    <tr>\n",
       "      <th class=\"index_name level0\" >Fold</th>\n",
       "      <th class=\"blank col0\" >&nbsp;</th>\n",
       "      <th class=\"blank col1\" >&nbsp;</th>\n",
       "      <th class=\"blank col2\" >&nbsp;</th>\n",
       "      <th class=\"blank col3\" >&nbsp;</th>\n",
       "      <th class=\"blank col4\" >&nbsp;</th>\n",
       "      <th class=\"blank col5\" >&nbsp;</th>\n",
       "    </tr>\n",
       "  </thead>\n",
       "  <tbody>\n",
       "    <tr>\n",
       "      <th id=\"T_db265_level0_row0\" class=\"row_heading level0 row0\" >0</th>\n",
       "      <td id=\"T_db265_row0_col0\" class=\"data row0 col0\" >63.8260</td>\n",
       "      <td id=\"T_db265_row0_col1\" class=\"data row0 col1\" >61050.6685</td>\n",
       "      <td id=\"T_db265_row0_col2\" class=\"data row0 col2\" >247.0843</td>\n",
       "      <td id=\"T_db265_row0_col3\" class=\"data row0 col3\" >0.8628</td>\n",
       "      <td id=\"T_db265_row0_col4\" class=\"data row0 col4\" >0.1557</td>\n",
       "      <td id=\"T_db265_row0_col5\" class=\"data row0 col5\" >0.0484</td>\n",
       "    </tr>\n",
       "    <tr>\n",
       "      <th id=\"T_db265_level0_row1\" class=\"row_heading level0 row1\" >1</th>\n",
       "      <td id=\"T_db265_row1_col0\" class=\"data row1 col0\" >73.1737</td>\n",
       "      <td id=\"T_db265_row1_col1\" class=\"data row1 col1\" >15120.6388</td>\n",
       "      <td id=\"T_db265_row1_col2\" class=\"data row1 col2\" >122.9660</td>\n",
       "      <td id=\"T_db265_row1_col3\" class=\"data row1 col3\" >0.9695</td>\n",
       "      <td id=\"T_db265_row1_col4\" class=\"data row1 col4\" >0.1186</td>\n",
       "      <td id=\"T_db265_row1_col5\" class=\"data row1 col5\" >0.1044</td>\n",
       "    </tr>\n",
       "    <tr>\n",
       "      <th id=\"T_db265_level0_row2\" class=\"row_heading level0 row2\" >2</th>\n",
       "      <td id=\"T_db265_row2_col0\" class=\"data row2 col0\" >27.6691</td>\n",
       "      <td id=\"T_db265_row2_col1\" class=\"data row2 col1\" >3541.4129</td>\n",
       "      <td id=\"T_db265_row2_col2\" class=\"data row2 col2\" >59.5098</td>\n",
       "      <td id=\"T_db265_row2_col3\" class=\"data row2 col3\" >0.9905</td>\n",
       "      <td id=\"T_db265_row2_col4\" class=\"data row2 col4\" >0.0552</td>\n",
       "      <td id=\"T_db265_row2_col5\" class=\"data row2 col5\" >0.0413</td>\n",
       "    </tr>\n",
       "    <tr>\n",
       "      <th id=\"T_db265_level0_row3\" class=\"row_heading level0 row3\" >3</th>\n",
       "      <td id=\"T_db265_row3_col0\" class=\"data row3 col0\" >128.5151</td>\n",
       "      <td id=\"T_db265_row3_col1\" class=\"data row3 col1\" >38652.4472</td>\n",
       "      <td id=\"T_db265_row3_col2\" class=\"data row3 col2\" >196.6023</td>\n",
       "      <td id=\"T_db265_row3_col3\" class=\"data row3 col3\" >0.7137</td>\n",
       "      <td id=\"T_db265_row3_col4\" class=\"data row3 col4\" >0.3240</td>\n",
       "      <td id=\"T_db265_row3_col5\" class=\"data row3 col5\" >0.3762</td>\n",
       "    </tr>\n",
       "    <tr>\n",
       "      <th id=\"T_db265_level0_row4\" class=\"row_heading level0 row4\" >4</th>\n",
       "      <td id=\"T_db265_row4_col0\" class=\"data row4 col0\" >19.0000</td>\n",
       "      <td id=\"T_db265_row4_col1\" class=\"data row4 col1\" >947.6393</td>\n",
       "      <td id=\"T_db265_row4_col2\" class=\"data row4 col2\" >30.7838</td>\n",
       "      <td id=\"T_db265_row4_col3\" class=\"data row4 col3\" >0.9939</td>\n",
       "      <td id=\"T_db265_row4_col4\" class=\"data row4 col4\" >0.0563</td>\n",
       "      <td id=\"T_db265_row4_col5\" class=\"data row4 col5\" >0.0493</td>\n",
       "    </tr>\n",
       "    <tr>\n",
       "      <th id=\"T_db265_level0_row5\" class=\"row_heading level0 row5\" >Mean</th>\n",
       "      <td id=\"T_db265_row5_col0\" class=\"data row5 col0\" >62.4368</td>\n",
       "      <td id=\"T_db265_row5_col1\" class=\"data row5 col1\" >23862.5613</td>\n",
       "      <td id=\"T_db265_row5_col2\" class=\"data row5 col2\" >131.3892</td>\n",
       "      <td id=\"T_db265_row5_col3\" class=\"data row5 col3\" >0.9061</td>\n",
       "      <td id=\"T_db265_row5_col4\" class=\"data row5 col4\" >0.1419</td>\n",
       "      <td id=\"T_db265_row5_col5\" class=\"data row5 col5\" >0.1239</td>\n",
       "    </tr>\n",
       "    <tr>\n",
       "      <th id=\"T_db265_level0_row6\" class=\"row_heading level0 row6\" >Std</th>\n",
       "      <td id=\"T_db265_row6_col0\" class=\"data row6 col0\" >38.9335</td>\n",
       "      <td id=\"T_db265_row6_col1\" class=\"data row6 col1\" >22874.2649</td>\n",
       "      <td id=\"T_db265_row6_col2\" class=\"data row6 col2\" >81.2369</td>\n",
       "      <td id=\"T_db265_row6_col3\" class=\"data row6 col3\" >0.1075</td>\n",
       "      <td id=\"T_db265_row6_col4\" class=\"data row6 col4\" >0.0987</td>\n",
       "      <td id=\"T_db265_row6_col5\" class=\"data row6 col5\" >0.1282</td>\n",
       "    </tr>\n",
       "  </tbody>\n",
       "</table>\n"
      ],
      "text/plain": [
       "<pandas.io.formats.style.Styler at 0x2496ea8a530>"
      ]
     },
     "metadata": {},
     "output_type": "display_data"
    },
    {
     "data": {
      "text/html": [],
      "text/plain": [
       "<IPython.core.display.HTML object>"
      ]
     },
     "metadata": {},
     "output_type": "display_data"
    },
    {
     "name": "stdout",
     "output_type": "stream",
     "text": [
      "Fitting 5 folds for each of 10 candidates, totalling 50 fits\n",
      "Original model was better than the tuned model, hence it will be returned. NOTE: The display metrics are for the tuned model (not the original one).\n"
     ]
    },
    {
     "data": {
      "text/html": [],
      "text/plain": [
       "<IPython.core.display.HTML object>"
      ]
     },
     "metadata": {},
     "output_type": "display_data"
    },
    {
     "data": {
      "text/html": [
       "<style type=\"text/css\">\n",
       "#T_92791_row5_col0, #T_92791_row5_col1, #T_92791_row5_col2, #T_92791_row5_col3, #T_92791_row5_col4, #T_92791_row5_col5 {\n",
       "  background: yellow;\n",
       "}\n",
       "</style>\n",
       "<table id=\"T_92791\">\n",
       "  <thead>\n",
       "    <tr>\n",
       "      <th class=\"blank level0\" >&nbsp;</th>\n",
       "      <th id=\"T_92791_level0_col0\" class=\"col_heading level0 col0\" >MAE</th>\n",
       "      <th id=\"T_92791_level0_col1\" class=\"col_heading level0 col1\" >MSE</th>\n",
       "      <th id=\"T_92791_level0_col2\" class=\"col_heading level0 col2\" >RMSE</th>\n",
       "      <th id=\"T_92791_level0_col3\" class=\"col_heading level0 col3\" >R2</th>\n",
       "      <th id=\"T_92791_level0_col4\" class=\"col_heading level0 col4\" >RMSLE</th>\n",
       "      <th id=\"T_92791_level0_col5\" class=\"col_heading level0 col5\" >MAPE</th>\n",
       "    </tr>\n",
       "    <tr>\n",
       "      <th class=\"index_name level0\" >Fold</th>\n",
       "      <th class=\"blank col0\" >&nbsp;</th>\n",
       "      <th class=\"blank col1\" >&nbsp;</th>\n",
       "      <th class=\"blank col2\" >&nbsp;</th>\n",
       "      <th class=\"blank col3\" >&nbsp;</th>\n",
       "      <th class=\"blank col4\" >&nbsp;</th>\n",
       "      <th class=\"blank col5\" >&nbsp;</th>\n",
       "    </tr>\n",
       "  </thead>\n",
       "  <tbody>\n",
       "    <tr>\n",
       "      <th id=\"T_92791_level0_row0\" class=\"row_heading level0 row0\" >0</th>\n",
       "      <td id=\"T_92791_row0_col0\" class=\"data row0 col0\" >56.3263</td>\n",
       "      <td id=\"T_92791_row0_col1\" class=\"data row0 col1\" >50821.9420</td>\n",
       "      <td id=\"T_92791_row0_col2\" class=\"data row0 col2\" >225.4372</td>\n",
       "      <td id=\"T_92791_row0_col3\" class=\"data row0 col3\" >0.8858</td>\n",
       "      <td id=\"T_92791_row0_col4\" class=\"data row0 col4\" >0.1383</td>\n",
       "      <td id=\"T_92791_row0_col5\" class=\"data row0 col5\" >0.0483</td>\n",
       "    </tr>\n",
       "    <tr>\n",
       "      <th id=\"T_92791_level0_row1\" class=\"row_heading level0 row1\" >1</th>\n",
       "      <td id=\"T_92791_row1_col0\" class=\"data row1 col0\" >68.6909</td>\n",
       "      <td id=\"T_92791_row1_col1\" class=\"data row1 col1\" >16242.2332</td>\n",
       "      <td id=\"T_92791_row1_col2\" class=\"data row1 col2\" >127.4450</td>\n",
       "      <td id=\"T_92791_row1_col3\" class=\"data row1 col3\" >0.9672</td>\n",
       "      <td id=\"T_92791_row1_col4\" class=\"data row1 col4\" >0.1090</td>\n",
       "      <td id=\"T_92791_row1_col5\" class=\"data row1 col5\" >0.0940</td>\n",
       "    </tr>\n",
       "    <tr>\n",
       "      <th id=\"T_92791_level0_row2\" class=\"row_heading level0 row2\" >2</th>\n",
       "      <td id=\"T_92791_row2_col0\" class=\"data row2 col0\" >27.8838</td>\n",
       "      <td id=\"T_92791_row2_col1\" class=\"data row2 col1\" >4439.9207</td>\n",
       "      <td id=\"T_92791_row2_col2\" class=\"data row2 col2\" >66.6327</td>\n",
       "      <td id=\"T_92791_row2_col3\" class=\"data row2 col3\" >0.9881</td>\n",
       "      <td id=\"T_92791_row2_col4\" class=\"data row2 col4\" >0.0608</td>\n",
       "      <td id=\"T_92791_row2_col5\" class=\"data row2 col5\" >0.0420</td>\n",
       "    </tr>\n",
       "    <tr>\n",
       "      <th id=\"T_92791_level0_row3\" class=\"row_heading level0 row3\" >3</th>\n",
       "      <td id=\"T_92791_row3_col0\" class=\"data row3 col0\" >117.0651</td>\n",
       "      <td id=\"T_92791_row3_col1\" class=\"data row3 col1\" >37087.4006</td>\n",
       "      <td id=\"T_92791_row3_col2\" class=\"data row3 col2\" >192.5809</td>\n",
       "      <td id=\"T_92791_row3_col3\" class=\"data row3 col3\" >0.7253</td>\n",
       "      <td id=\"T_92791_row3_col4\" class=\"data row3 col4\" >0.2976</td>\n",
       "      <td id=\"T_92791_row3_col5\" class=\"data row3 col5\" >0.3445</td>\n",
       "    </tr>\n",
       "    <tr>\n",
       "      <th id=\"T_92791_level0_row4\" class=\"row_heading level0 row4\" >4</th>\n",
       "      <td id=\"T_92791_row4_col0\" class=\"data row4 col0\" >14.1233</td>\n",
       "      <td id=\"T_92791_row4_col1\" class=\"data row4 col1\" >628.1224</td>\n",
       "      <td id=\"T_92791_row4_col2\" class=\"data row4 col2\" >25.0624</td>\n",
       "      <td id=\"T_92791_row4_col3\" class=\"data row4 col3\" >0.9960</td>\n",
       "      <td id=\"T_92791_row4_col4\" class=\"data row4 col4\" >0.0588</td>\n",
       "      <td id=\"T_92791_row4_col5\" class=\"data row4 col5\" >0.0471</td>\n",
       "    </tr>\n",
       "    <tr>\n",
       "      <th id=\"T_92791_level0_row5\" class=\"row_heading level0 row5\" >Mean</th>\n",
       "      <td id=\"T_92791_row5_col0\" class=\"data row5 col0\" >56.8179</td>\n",
       "      <td id=\"T_92791_row5_col1\" class=\"data row5 col1\" >21843.9238</td>\n",
       "      <td id=\"T_92791_row5_col2\" class=\"data row5 col2\" >127.4316</td>\n",
       "      <td id=\"T_92791_row5_col3\" class=\"data row5 col3\" >0.9125</td>\n",
       "      <td id=\"T_92791_row5_col4\" class=\"data row5 col4\" >0.1329</td>\n",
       "      <td id=\"T_92791_row5_col5\" class=\"data row5 col5\" >0.1152</td>\n",
       "    </tr>\n",
       "    <tr>\n",
       "      <th id=\"T_92791_level0_row6\" class=\"row_heading level0 row6\" >Std</th>\n",
       "      <td id=\"T_92791_row6_col0\" class=\"data row6 col0\" >35.8635</td>\n",
       "      <td id=\"T_92791_row6_col1\" class=\"data row6 col1\" >19269.0301</td>\n",
       "      <td id=\"T_92791_row6_col2\" class=\"data row6 col2\" >74.8672</td>\n",
       "      <td id=\"T_92791_row6_col3\" class=\"data row6 col3\" >0.1014</td>\n",
       "      <td id=\"T_92791_row6_col4\" class=\"data row6 col4\" >0.0876</td>\n",
       "      <td id=\"T_92791_row6_col5\" class=\"data row6 col5\" >0.1162</td>\n",
       "    </tr>\n",
       "  </tbody>\n",
       "</table>\n"
      ],
      "text/plain": [
       "<pandas.io.formats.style.Styler at 0x2493f69feb0>"
      ]
     },
     "metadata": {},
     "output_type": "display_data"
    },
    {
     "data": {
      "text/html": [],
      "text/plain": [
       "<IPython.core.display.HTML object>"
      ]
     },
     "metadata": {},
     "output_type": "display_data"
    },
    {
     "name": "stdout",
     "output_type": "stream",
     "text": [
      "Fitting 5 folds for each of 10 candidates, totalling 50 fits\n"
     ]
    },
    {
     "data": {
      "application/vnd.jupyter.widget-view+json": {
       "model_id": "d023fb9c6a474357b07cabcec215b2f6",
       "version_major": 2,
       "version_minor": 0
      },
      "text/plain": [
       "interactive(children=(ToggleButtons(description='Plot Type:', icons=('',), options=(('Pipeline Plot', 'pipelin…"
      ]
     },
     "metadata": {},
     "output_type": "display_data"
    },
    {
     "data": {
      "application/vnd.jupyter.widget-view+json": {
       "model_id": "ef94f2b99a9743a4b3f160845e9baa2d",
       "version_major": 2,
       "version_minor": 0
      },
      "text/plain": [
       "interactive(children=(ToggleButtons(description='Plot Type:', icons=('',), options=(('Pipeline Plot', 'pipelin…"
      ]
     },
     "metadata": {},
     "output_type": "display_data"
    },
    {
     "data": {
      "text/html": [],
      "text/plain": [
       "<IPython.core.display.HTML object>"
      ]
     },
     "metadata": {},
     "output_type": "display_data"
    },
    {
     "data": {
      "text/html": [
       "<style type=\"text/css\">\n",
       "#T_7ad75 th {\n",
       "  text-align: left;\n",
       "}\n",
       "#T_7ad75_row0_col0, #T_7ad75_row0_col4, #T_7ad75_row0_col6, #T_7ad75_row1_col0, #T_7ad75_row1_col1, #T_7ad75_row1_col2, #T_7ad75_row1_col3, #T_7ad75_row1_col5 {\n",
       "  text-align: left;\n",
       "}\n",
       "#T_7ad75_row0_col1, #T_7ad75_row0_col2, #T_7ad75_row0_col3, #T_7ad75_row0_col5, #T_7ad75_row1_col4, #T_7ad75_row1_col6 {\n",
       "  text-align: left;\n",
       "  background-color: yellow;\n",
       "}\n",
       "#T_7ad75_row0_col7 {\n",
       "  text-align: left;\n",
       "  background-color: yellow;\n",
       "  background-color: lightgrey;\n",
       "}\n",
       "#T_7ad75_row1_col7 {\n",
       "  text-align: left;\n",
       "  background-color: lightgrey;\n",
       "}\n",
       "</style>\n",
       "<table id=\"T_7ad75\">\n",
       "  <thead>\n",
       "    <tr>\n",
       "      <th class=\"blank level0\" >&nbsp;</th>\n",
       "      <th id=\"T_7ad75_level0_col0\" class=\"col_heading level0 col0\" >Model</th>\n",
       "      <th id=\"T_7ad75_level0_col1\" class=\"col_heading level0 col1\" >MAE</th>\n",
       "      <th id=\"T_7ad75_level0_col2\" class=\"col_heading level0 col2\" >MSE</th>\n",
       "      <th id=\"T_7ad75_level0_col3\" class=\"col_heading level0 col3\" >RMSE</th>\n",
       "      <th id=\"T_7ad75_level0_col4\" class=\"col_heading level0 col4\" >R2</th>\n",
       "      <th id=\"T_7ad75_level0_col5\" class=\"col_heading level0 col5\" >RMSLE</th>\n",
       "      <th id=\"T_7ad75_level0_col6\" class=\"col_heading level0 col6\" >MAPE</th>\n",
       "      <th id=\"T_7ad75_level0_col7\" class=\"col_heading level0 col7\" >TT (Sec)</th>\n",
       "    </tr>\n",
       "  </thead>\n",
       "  <tbody>\n",
       "    <tr>\n",
       "      <th id=\"T_7ad75_level0_row0\" class=\"row_heading level0 row0\" >1</th>\n",
       "      <td id=\"T_7ad75_row0_col0\" class=\"data row0 col0\" >K Neighbors Regressor</td>\n",
       "      <td id=\"T_7ad75_row0_col1\" class=\"data row0 col1\" >56.8179</td>\n",
       "      <td id=\"T_7ad75_row0_col2\" class=\"data row0 col2\" >21843.9238</td>\n",
       "      <td id=\"T_7ad75_row0_col3\" class=\"data row0 col3\" >127.4316</td>\n",
       "      <td id=\"T_7ad75_row0_col4\" class=\"data row0 col4\" >0.9125</td>\n",
       "      <td id=\"T_7ad75_row0_col5\" class=\"data row0 col5\" >0.1329</td>\n",
       "      <td id=\"T_7ad75_row0_col6\" class=\"data row0 col6\" >0.1152</td>\n",
       "      <td id=\"T_7ad75_row0_col7\" class=\"data row0 col7\" >0.0440</td>\n",
       "    </tr>\n",
       "    <tr>\n",
       "      <th id=\"T_7ad75_level0_row1\" class=\"row_heading level0 row1\" >0</th>\n",
       "      <td id=\"T_7ad75_row1_col0\" class=\"data row1 col0\" >Extra Trees Regressor</td>\n",
       "      <td id=\"T_7ad75_row1_col1\" class=\"data row1 col1\" >57.4717</td>\n",
       "      <td id=\"T_7ad75_row1_col2\" class=\"data row1 col2\" >28435.7033</td>\n",
       "      <td id=\"T_7ad75_row1_col3\" class=\"data row1 col3\" >150.2049</td>\n",
       "      <td id=\"T_7ad75_row1_col4\" class=\"data row1 col4\" >0.9129</td>\n",
       "      <td id=\"T_7ad75_row1_col5\" class=\"data row1 col5\" >0.1354</td>\n",
       "      <td id=\"T_7ad75_row1_col6\" class=\"data row1 col6\" >0.1042</td>\n",
       "      <td id=\"T_7ad75_row1_col7\" class=\"data row1 col7\" >0.0820</td>\n",
       "    </tr>\n",
       "  </tbody>\n",
       "</table>\n"
      ],
      "text/plain": [
       "<pandas.io.formats.style.Styler at 0x2493f968670>"
      ]
     },
     "metadata": {},
     "output_type": "display_data"
    },
    {
     "data": {
      "text/html": [],
      "text/plain": [
       "<IPython.core.display.HTML object>"
      ]
     },
     "metadata": {},
     "output_type": "display_data"
    },
    {
     "name": "stdout",
     "output_type": "stream",
     "text": [
      "Transformation Pipeline and Model Successfully Saved\n"
     ]
    },
    {
     "data": {
      "text/plain": [
       "(Pipeline(memory=Memory(location=None),\n",
       "          steps=[('numerical_imputer',\n",
       "                  TransformerWrapper(include=['anio', 'duracion_dias',\n",
       "                                              'mes_inicio', 'es_evento_ciudad',\n",
       "                                              'es_semana_santa', 'es_navidad',\n",
       "                                              'es_puente'],\n",
       "                                     transformer=SimpleImputer())),\n",
       "                 ('categorical_imputer',\n",
       "                  TransformerWrapper(include=['temporada', 'segmento',\n",
       "                                              'Tipo_viajero'],\n",
       "                                     transformer=SimpleImputer(strategy='most_frequent'))),\n",
       "                 ('onehot_encoding',\n",
       "                  TransformerWrapper(include=['temporada', 'segmento',\n",
       "                                              'Tipo_viajero'],\n",
       "                                     transformer=OneHotEncoder(cols=['temporada',\n",
       "                                                                     'segmento',\n",
       "                                                                     'Tipo_viajero'],\n",
       "                                                               handle_missing='return_nan',\n",
       "                                                               use_cat_names=True))),\n",
       "                 ('actual_estimator',\n",
       "                  KNeighborsRegressor(metric='euclidean', n_jobs=-1,\n",
       "                                      n_neighbors=11, weights='distance'))]),\n",
       " 'modelo_temporadas_personas.pkl')"
      ]
     },
     "execution_count": 4,
     "metadata": {},
     "output_type": "execute_result"
    }
   ],
   "source": [
    "# asumiendo 'setup(...)' ya corrido con groupkfold por 'anio'\n",
    "top_mae   = create_model('et')     # ExtraTrees\n",
    "top_rmse  = create_model('knn')    # KNN\n",
    "\n",
    "t_et  = tune_model(top_mae,  optimize='MAE')\n",
    "t_knn = tune_model(top_rmse, optimize='RMSE')\n",
    "\n",
    "evaluate_model(t_et)\n",
    "evaluate_model(t_knn)\n",
    "\n",
    "# ranking final por tu métrica clave (ej. MAE)\n",
    "blend = compare_models(include=[t_et, t_knn], sort='MAE')\n",
    "final = finalize_model(blend)\n",
    "save_model(final, 'modelo_temporadas_personas')\n"
   ]
  }
 ],
 "metadata": {
  "kernelspec": {
   "display_name": "Python (hotelIA)",
   "language": "python",
   "name": "hotelia"
  },
  "language_info": {
   "codemirror_mode": {
    "name": "ipython",
    "version": 3
   },
   "file_extension": ".py",
   "mimetype": "text/x-python",
   "name": "python",
   "nbconvert_exporter": "python",
   "pygments_lexer": "ipython3",
   "version": "3.10.18"
  }
 },
 "nbformat": 4,
 "nbformat_minor": 5
}
